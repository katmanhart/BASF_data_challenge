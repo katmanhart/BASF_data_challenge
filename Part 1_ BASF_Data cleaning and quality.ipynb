{
 "cells": [
  {
   "cell_type": "markdown",
   "metadata": {},
   "source": [
    "# BASF data challenge "
   ]
  },
  {
   "cell_type": "markdown",
   "metadata": {},
   "source": [
    "<img src=\"basf_retail.jpg\">\n",
    "\n",
    "<font size=\"2\">Image source: https://www.basf.com/no/en/products/packaging-and-print.html</font> "
   ]
  },
  {
   "cell_type": "markdown",
   "metadata": {},
   "source": [
    "#### This is the first project notebook on data cleaning & quality.\n",
    "\n",
    "It contains information on dealing with duplicates, missing and inappropriate values.\n",
    "We'll take first glance at all variables. Further data exploration will be done in Tableau."
   ]
  },
  {
   "cell_type": "markdown",
   "metadata": {},
   "source": [
    "#### Introducing dataset"
   ]
  },
  {
   "cell_type": "markdown",
   "metadata": {},
   "source": [
    "This dataset contains information of customers and their transactional data. \n",
    "Data is collected in 9 months period (from December 2010 up to January 2011). \n",
    "  \n",
    "<br> **Invoice**:   Invoice number (transaction ID) \n",
    "<br> **Sales Product**: Data for 3225 products \n",
    "<br> **Stock Code** :  Bar code, from product labels in retail store \n",
    "<br> **Alpha Code** :  Product alpha numeric code \n",
    "<br> **Alpha Code.1**: Shorter alpha numeric code\n",
    "<br> **Quantity**:  Quantity sold\n",
    "<br> **Invoice Date**:  Timestamp included on the invoice\n",
    "<br> **Price per Unit**: Price for one product\n",
    "<br> **Customer**: Customer name \n",
    "<br> **Customer ID**: Unique customer identifier\n",
    "<br> **Industry**: Industry \n",
    "<br> **Country** : Customer country\n",
    "<br> **Unnamed:12**:  Abbreviation for state\n",
    "<br> **Distributor**: Yes/No \n",
    "<br> **Operating Division**: Consists of 6 BASF divisions \n",
    "<br> **Unnamed:15**: Abbreviation for operating division \n",
    "<br> **Final Price**: Revenue, price per unit multiplied by the quantity\n",
    "<br> **Invoice Month**: Month of sale\n",
    "<br> **Day of week**: Day of sale"
   ]
  },
  {
   "cell_type": "markdown",
   "metadata": {},
   "source": [
    "#### Imports"
   ]
  },
  {
   "cell_type": "code",
   "execution_count": 1,
   "metadata": {},
   "outputs": [],
   "source": [
    "import numpy as np \n",
    "import pandas as pd \n",
    "import seaborn as sns\n",
    "import matplotlib.pyplot as plt \n",
    "\n",
    "from datetime import datetime\n",
    "from sklearn.impute import SimpleImputer\n",
    "\n",
    "%matplotlib inline"
   ]
  },
  {
   "cell_type": "code",
   "execution_count": 2,
   "metadata": {},
   "outputs": [],
   "source": [
    "df = pd.read_excel('dataset.xlsx')"
   ]
  },
  {
   "cell_type": "code",
   "execution_count": 3,
   "metadata": {},
   "outputs": [
    {
     "data": {
      "text/html": [
       "<div>\n",
       "<style scoped>\n",
       "    .dataframe tbody tr th:only-of-type {\n",
       "        vertical-align: middle;\n",
       "    }\n",
       "\n",
       "    .dataframe tbody tr th {\n",
       "        vertical-align: top;\n",
       "    }\n",
       "\n",
       "    .dataframe thead th {\n",
       "        text-align: right;\n",
       "    }\n",
       "</style>\n",
       "<table border=\"1\" class=\"dataframe\">\n",
       "  <thead>\n",
       "    <tr style=\"text-align: right;\">\n",
       "      <th></th>\n",
       "      <th>Invoice</th>\n",
       "      <th>Sales Product</th>\n",
       "      <th>Stock Code</th>\n",
       "      <th>Alpha Code</th>\n",
       "      <th>Alpha Code.1</th>\n",
       "      <th>Quantity</th>\n",
       "      <th>Invoice Date</th>\n",
       "      <th>Price per Unit</th>\n",
       "      <th>Customer</th>\n",
       "      <th>Customer ID</th>\n",
       "      <th>Industry</th>\n",
       "      <th>Country</th>\n",
       "      <th>Unnamed: 12</th>\n",
       "      <th>Distributor</th>\n",
       "      <th>Operating Division</th>\n",
       "      <th>Unnamed: 15</th>\n",
       "      <th>Final Price</th>\n",
       "      <th>Invoice Month</th>\n",
       "      <th>Day of week</th>\n",
       "    </tr>\n",
       "  </thead>\n",
       "  <tbody>\n",
       "    <tr>\n",
       "      <th>0</th>\n",
       "      <td>553503</td>\n",
       "      <td>NEOPOLEN P 9230 K BS</td>\n",
       "      <td>90214Y</td>\n",
       "      <td>NEOPOLEN P EX BSW</td>\n",
       "      <td>DLG</td>\n",
       "      <td>1</td>\n",
       "      <td>2011-05-17 13:20</td>\n",
       "      <td>0.83</td>\n",
       "      <td>SCHATTDECOR DO BRASI</td>\n",
       "      <td>14606</td>\n",
       "      <td>#</td>\n",
       "      <td>Romania</td>\n",
       "      <td>RO</td>\n",
       "      <td>Distributor no</td>\n",
       "      <td>PERFORMANCE MATERIAL</td>\n",
       "      <td>PM</td>\n",
       "      <td>0.83</td>\n",
       "      <td>May</td>\n",
       "      <td>Tuesday</td>\n",
       "    </tr>\n",
       "    <tr>\n",
       "      <th>1</th>\n",
       "      <td>536591</td>\n",
       "      <td>NEOPOLEN P 9255 BSW</td>\n",
       "      <td>90214V</td>\n",
       "      <td>NEOPOLEN P EX BSW</td>\n",
       "      <td>DLG</td>\n",
       "      <td>1</td>\n",
       "      <td>2010-12-01 16:57</td>\n",
       "      <td>0.83</td>\n",
       "      <td>SCHATTDECOR DO BRASI</td>\n",
       "      <td>14606</td>\n",
       "      <td>#</td>\n",
       "      <td>Romania</td>\n",
       "      <td>RO</td>\n",
       "      <td>Distributor no</td>\n",
       "      <td>PERFORMANCE MATERIAL</td>\n",
       "      <td>PM</td>\n",
       "      <td>0.83</td>\n",
       "      <td>December</td>\n",
       "      <td>Wednesday</td>\n",
       "    </tr>\n",
       "    <tr>\n",
       "      <th>2</th>\n",
       "      <td>556202</td>\n",
       "      <td>NEOPOLEN P 9255 BSW</td>\n",
       "      <td>90214V</td>\n",
       "      <td>NEOPOLEN P EX BSW</td>\n",
       "      <td>DLG</td>\n",
       "      <td>1</td>\n",
       "      <td>2011-06-09 13:08</td>\n",
       "      <td>0.83</td>\n",
       "      <td>SCHATTDECOR DO BRASI</td>\n",
       "      <td>14606</td>\n",
       "      <td>#</td>\n",
       "      <td>Romania</td>\n",
       "      <td>RO</td>\n",
       "      <td>Distributor no</td>\n",
       "      <td>PERFORMANCE MATERIAL</td>\n",
       "      <td>PM</td>\n",
       "      <td>0.83</td>\n",
       "      <td>June</td>\n",
       "      <td>Thursday</td>\n",
       "    </tr>\n",
       "    <tr>\n",
       "      <th>3</th>\n",
       "      <td>536591</td>\n",
       "      <td>NEOPOLEN P 9225 K BS</td>\n",
       "      <td>90214S</td>\n",
       "      <td>NEOPOLEN P EX BSW</td>\n",
       "      <td>DLG</td>\n",
       "      <td>1</td>\n",
       "      <td>2010-12-01 16:57</td>\n",
       "      <td>0.83</td>\n",
       "      <td>SCHATTDECOR DO BRASI</td>\n",
       "      <td>14606</td>\n",
       "      <td>#</td>\n",
       "      <td>Romania</td>\n",
       "      <td>RO</td>\n",
       "      <td>Distributor no</td>\n",
       "      <td>PERFORMANCE MATERIAL</td>\n",
       "      <td>PM</td>\n",
       "      <td>0.83</td>\n",
       "      <td>December</td>\n",
       "      <td>Wednesday</td>\n",
       "    </tr>\n",
       "    <tr>\n",
       "      <th>4</th>\n",
       "      <td>537765</td>\n",
       "      <td>NEOPOLEN P 9225 K BS</td>\n",
       "      <td>90214S</td>\n",
       "      <td>NEOPOLEN P EX BSW</td>\n",
       "      <td>DLG</td>\n",
       "      <td>2</td>\n",
       "      <td>2010-12-08 12:08</td>\n",
       "      <td>0.83</td>\n",
       "      <td>SCHATTDECOR DO BRASI</td>\n",
       "      <td>14606</td>\n",
       "      <td>#</td>\n",
       "      <td>Romania</td>\n",
       "      <td>RO</td>\n",
       "      <td>Distributor no</td>\n",
       "      <td>PERFORMANCE MATERIAL</td>\n",
       "      <td>PM</td>\n",
       "      <td>1.66</td>\n",
       "      <td>December</td>\n",
       "      <td>Wednesday</td>\n",
       "    </tr>\n",
       "  </tbody>\n",
       "</table>\n",
       "</div>"
      ],
      "text/plain": [
       "   Invoice         Sales Product Stock Code         Alpha Code Alpha Code.1  \\\n",
       "0   553503  NEOPOLEN P 9230 K BS     90214Y  NEOPOLEN P EX BSW          DLG   \n",
       "1   536591   NEOPOLEN P 9255 BSW     90214V  NEOPOLEN P EX BSW          DLG   \n",
       "2   556202   NEOPOLEN P 9255 BSW     90214V  NEOPOLEN P EX BSW          DLG   \n",
       "3   536591  NEOPOLEN P 9225 K BS     90214S  NEOPOLEN P EX BSW          DLG   \n",
       "4   537765  NEOPOLEN P 9225 K BS     90214S  NEOPOLEN P EX BSW          DLG   \n",
       "\n",
       "   Quantity      Invoice Date  Price per Unit              Customer  \\\n",
       "0         1  2011-05-17 13:20            0.83  SCHATTDECOR DO BRASI   \n",
       "1         1  2010-12-01 16:57            0.83  SCHATTDECOR DO BRASI   \n",
       "2         1  2011-06-09 13:08            0.83  SCHATTDECOR DO BRASI   \n",
       "3         1  2010-12-01 16:57            0.83  SCHATTDECOR DO BRASI   \n",
       "4         2  2010-12-08 12:08            0.83  SCHATTDECOR DO BRASI   \n",
       "\n",
       "   Customer ID Industry  Country Unnamed: 12     Distributor  \\\n",
       "0        14606        #  Romania          RO  Distributor no   \n",
       "1        14606        #  Romania          RO  Distributor no   \n",
       "2        14606        #  Romania          RO  Distributor no   \n",
       "3        14606        #  Romania          RO  Distributor no   \n",
       "4        14606        #  Romania          RO  Distributor no   \n",
       "\n",
       "     Operating Division Unnamed: 15  Final Price Invoice Month Day of week  \n",
       "0  PERFORMANCE MATERIAL          PM         0.83           May     Tuesday  \n",
       "1  PERFORMANCE MATERIAL          PM         0.83      December   Wednesday  \n",
       "2  PERFORMANCE MATERIAL          PM         0.83          June    Thursday  \n",
       "3  PERFORMANCE MATERIAL          PM         0.83      December   Wednesday  \n",
       "4  PERFORMANCE MATERIAL          PM         1.66      December   Wednesday  "
      ]
     },
     "execution_count": 3,
     "metadata": {},
     "output_type": "execute_result"
    }
   ],
   "source": [
    "df.head()"
   ]
  },
  {
   "cell_type": "code",
   "execution_count": 4,
   "metadata": {},
   "outputs": [
    {
     "data": {
      "text/html": [
       "<div>\n",
       "<style scoped>\n",
       "    .dataframe tbody tr th:only-of-type {\n",
       "        vertical-align: middle;\n",
       "    }\n",
       "\n",
       "    .dataframe tbody tr th {\n",
       "        vertical-align: top;\n",
       "    }\n",
       "\n",
       "    .dataframe thead th {\n",
       "        text-align: right;\n",
       "    }\n",
       "</style>\n",
       "<table border=\"1\" class=\"dataframe\">\n",
       "  <thead>\n",
       "    <tr style=\"text-align: right;\">\n",
       "      <th></th>\n",
       "      <th>Invoice</th>\n",
       "      <th>Sales Product</th>\n",
       "      <th>Stock Code</th>\n",
       "      <th>Alpha Code</th>\n",
       "      <th>Alpha Code.1</th>\n",
       "      <th>Quantity</th>\n",
       "      <th>Invoice Date</th>\n",
       "      <th>Price per Unit</th>\n",
       "      <th>Customer</th>\n",
       "      <th>Customer ID</th>\n",
       "      <th>Industry</th>\n",
       "      <th>Country</th>\n",
       "      <th>Unnamed: 12</th>\n",
       "      <th>Distributor</th>\n",
       "      <th>Operating Division</th>\n",
       "      <th>Unnamed: 15</th>\n",
       "      <th>Final Price</th>\n",
       "      <th>Invoice Month</th>\n",
       "      <th>Day of week</th>\n",
       "    </tr>\n",
       "  </thead>\n",
       "  <tbody>\n",
       "    <tr>\n",
       "      <th>64749</th>\n",
       "      <td>562603</td>\n",
       "      <td>C00456 HYALURONIC FS</td>\n",
       "      <td>22951</td>\n",
       "      <td>OTHER LEGACY LYON PR</td>\n",
       "      <td>NSB</td>\n",
       "      <td>1</td>\n",
       "      <td>2011-08-08 10:40</td>\n",
       "      <td>0.55</td>\n",
       "      <td>Alpha Products Aps.</td>\n",
       "      <td>17870</td>\n",
       "      <td>Electrical/Electron</td>\n",
       "      <td>Sweden</td>\n",
       "      <td>SE</td>\n",
       "      <td>Distributor no</td>\n",
       "      <td>INTERMEDIATES</td>\n",
       "      <td>CI</td>\n",
       "      <td>0.55</td>\n",
       "      <td>August</td>\n",
       "      <td>Monday</td>\n",
       "    </tr>\n",
       "    <tr>\n",
       "      <th>93593</th>\n",
       "      <td>546927</td>\n",
       "      <td>SOKALAN PA 30 CL</td>\n",
       "      <td>22634</td>\n",
       "      <td>ANIONIC HOMOPOLYMERS</td>\n",
       "      <td>EBC</td>\n",
       "      <td>8</td>\n",
       "      <td>2011-03-18 10:15</td>\n",
       "      <td>9.95</td>\n",
       "      <td>BILLERUDKORSNAS BEET</td>\n",
       "      <td>16672</td>\n",
       "      <td>Construction</td>\n",
       "      <td>Indonesia</td>\n",
       "      <td>ID</td>\n",
       "      <td>Distributor no</td>\n",
       "      <td>INTERMEDIATES</td>\n",
       "      <td>CI</td>\n",
       "      <td>79.60</td>\n",
       "      <td>March</td>\n",
       "      <td>Friday</td>\n",
       "    </tr>\n",
       "    <tr>\n",
       "      <th>181763</th>\n",
       "      <td>544666</td>\n",
       "      <td>LUVISKOL VA64 W</td>\n",
       "      <td>21165</td>\n",
       "      <td>PVPS &amp;PVP/VAS</td>\n",
       "      <td>CIC</td>\n",
       "      <td>3</td>\n",
       "      <td>2011-02-22 15:00</td>\n",
       "      <td>1.69</td>\n",
       "      <td>SERGE FERRARI S.A.S.</td>\n",
       "      <td>16907</td>\n",
       "      <td>#</td>\n",
       "      <td>Poland</td>\n",
       "      <td>PL</td>\n",
       "      <td>Distributor no</td>\n",
       "      <td>NUTRITION &amp; HEALTH</td>\n",
       "      <td>EN</td>\n",
       "      <td>5.07</td>\n",
       "      <td>February</td>\n",
       "      <td>Tuesday</td>\n",
       "    </tr>\n",
       "    <tr>\n",
       "      <th>63009</th>\n",
       "      <td>542105</td>\n",
       "      <td>A00249 FLAVENGER WP</td>\n",
       "      <td>22961</td>\n",
       "      <td>OTHER LEGACY LYON PR</td>\n",
       "      <td>NSB</td>\n",
       "      <td>6</td>\n",
       "      <td>2011-01-25 13:35</td>\n",
       "      <td>1.45</td>\n",
       "      <td>WIBAX AB</td>\n",
       "      <td>12854</td>\n",
       "      <td>#</td>\n",
       "      <td>Slovenia</td>\n",
       "      <td>SI</td>\n",
       "      <td>Distributor yes</td>\n",
       "      <td>INTERMEDIATES</td>\n",
       "      <td>CI</td>\n",
       "      <td>8.70</td>\n",
       "      <td>January</td>\n",
       "      <td>Tuesday</td>\n",
       "    </tr>\n",
       "    <tr>\n",
       "      <th>128645</th>\n",
       "      <td>543028</td>\n",
       "      <td>NITRIC ACID T.P. 60%</td>\n",
       "      <td>22244</td>\n",
       "      <td>NITRIC ACID TECHNICA</td>\n",
       "      <td>6FO</td>\n",
       "      <td>12</td>\n",
       "      <td>2011-02-02 15:09</td>\n",
       "      <td>1.95</td>\n",
       "      <td>PROVIDER IND E COM S</td>\n",
       "      <td>14443</td>\n",
       "      <td>#</td>\n",
       "      <td>Romania</td>\n",
       "      <td>RO</td>\n",
       "      <td>Distributor no</td>\n",
       "      <td>INTERMEDIATES</td>\n",
       "      <td>CI</td>\n",
       "      <td>23.40</td>\n",
       "      <td>February</td>\n",
       "      <td>Wednesday</td>\n",
       "    </tr>\n",
       "  </tbody>\n",
       "</table>\n",
       "</div>"
      ],
      "text/plain": [
       "        Invoice         Sales Product Stock Code            Alpha Code  \\\n",
       "64749    562603  C00456 HYALURONIC FS      22951  OTHER LEGACY LYON PR   \n",
       "93593    546927      SOKALAN PA 30 CL      22634  ANIONIC HOMOPOLYMERS   \n",
       "181763   544666       LUVISKOL VA64 W      21165         PVPS &PVP/VAS   \n",
       "63009    542105   A00249 FLAVENGER WP      22961  OTHER LEGACY LYON PR   \n",
       "128645   543028  NITRIC ACID T.P. 60%      22244  NITRIC ACID TECHNICA   \n",
       "\n",
       "       Alpha Code.1  Quantity      Invoice Date  Price per Unit  \\\n",
       "64749           NSB         1  2011-08-08 10:40            0.55   \n",
       "93593           EBC         8  2011-03-18 10:15            9.95   \n",
       "181763          CIC         3  2011-02-22 15:00            1.69   \n",
       "63009           NSB         6  2011-01-25 13:35            1.45   \n",
       "128645          6FO        12  2011-02-02 15:09            1.95   \n",
       "\n",
       "                    Customer  Customer ID             Industry    Country  \\\n",
       "64749    Alpha Products Aps.        17870  Electrical/Electron     Sweden   \n",
       "93593   BILLERUDKORSNAS BEET        16672         Construction  Indonesia   \n",
       "181763  SERGE FERRARI S.A.S.        16907                    #     Poland   \n",
       "63009               WIBAX AB        12854                    #   Slovenia   \n",
       "128645  PROVIDER IND E COM S        14443                    #    Romania   \n",
       "\n",
       "       Unnamed: 12      Distributor  Operating Division Unnamed: 15  \\\n",
       "64749           SE   Distributor no       INTERMEDIATES          CI   \n",
       "93593           ID   Distributor no       INTERMEDIATES          CI   \n",
       "181763          PL   Distributor no  NUTRITION & HEALTH          EN   \n",
       "63009           SI  Distributor yes       INTERMEDIATES          CI   \n",
       "128645          RO   Distributor no       INTERMEDIATES          CI   \n",
       "\n",
       "        Final Price Invoice Month Day of week  \n",
       "64749          0.55        August      Monday  \n",
       "93593         79.60         March      Friday  \n",
       "181763         5.07      February     Tuesday  \n",
       "63009          8.70       January     Tuesday  \n",
       "128645        23.40      February   Wednesday  "
      ]
     },
     "execution_count": 4,
     "metadata": {},
     "output_type": "execute_result"
    }
   ],
   "source": [
    "df.sample(5)"
   ]
  },
  {
   "cell_type": "code",
   "execution_count": 5,
   "metadata": {},
   "outputs": [
    {
     "data": {
      "text/html": [
       "<div>\n",
       "<style scoped>\n",
       "    .dataframe tbody tr th:only-of-type {\n",
       "        vertical-align: middle;\n",
       "    }\n",
       "\n",
       "    .dataframe tbody tr th {\n",
       "        vertical-align: top;\n",
       "    }\n",
       "\n",
       "    .dataframe thead th {\n",
       "        text-align: right;\n",
       "    }\n",
       "</style>\n",
       "<table border=\"1\" class=\"dataframe\">\n",
       "  <thead>\n",
       "    <tr style=\"text-align: right;\">\n",
       "      <th></th>\n",
       "      <th>Invoice</th>\n",
       "      <th>Sales Product</th>\n",
       "      <th>Stock Code</th>\n",
       "      <th>Alpha Code</th>\n",
       "      <th>Alpha Code.1</th>\n",
       "      <th>Quantity</th>\n",
       "      <th>Invoice Date</th>\n",
       "      <th>Price per Unit</th>\n",
       "      <th>Customer</th>\n",
       "      <th>Customer ID</th>\n",
       "      <th>Industry</th>\n",
       "      <th>Country</th>\n",
       "      <th>Unnamed: 12</th>\n",
       "      <th>Distributor</th>\n",
       "      <th>Operating Division</th>\n",
       "      <th>Unnamed: 15</th>\n",
       "      <th>Final Price</th>\n",
       "      <th>Invoice Month</th>\n",
       "      <th>Day of week</th>\n",
       "    </tr>\n",
       "  </thead>\n",
       "  <tbody>\n",
       "    <tr>\n",
       "      <th>203886</th>\n",
       "      <td>563037</td>\n",
       "      <td>Not assigned</td>\n",
       "      <td>#</td>\n",
       "      <td>LIZENZEINN. STYRODUR</td>\n",
       "      <td>EOB</td>\n",
       "      <td>16</td>\n",
       "      <td>2011-08-11 15:02</td>\n",
       "      <td>1.25</td>\n",
       "      <td>Wolman Wood and Fire</td>\n",
       "      <td>12362</td>\n",
       "      <td>Agriculture</td>\n",
       "      <td>Bulgaria</td>\n",
       "      <td>BG</td>\n",
       "      <td>Distributor no</td>\n",
       "      <td>MONOMERS</td>\n",
       "      <td>CM</td>\n",
       "      <td>20.0</td>\n",
       "      <td>August</td>\n",
       "      <td>Thursday</td>\n",
       "    </tr>\n",
       "    <tr>\n",
       "      <th>203887</th>\n",
       "      <td>563094</td>\n",
       "      <td>Not assigned</td>\n",
       "      <td>#</td>\n",
       "      <td>ULF. LICENSES</td>\n",
       "      <td>KWW</td>\n",
       "      <td>4</td>\n",
       "      <td>2011-08-11 17:35</td>\n",
       "      <td>2.95</td>\n",
       "      <td>DANSK VILOMIX A/S</td>\n",
       "      <td>14525</td>\n",
       "      <td>Health</td>\n",
       "      <td>Sweden</td>\n",
       "      <td>SE</td>\n",
       "      <td>Distributor no</td>\n",
       "      <td>PETROCHEMICALS</td>\n",
       "      <td>CP</td>\n",
       "      <td>11.8</td>\n",
       "      <td>August</td>\n",
       "      <td>Thursday</td>\n",
       "    </tr>\n",
       "    <tr>\n",
       "      <th>203888</th>\n",
       "      <td>563098</td>\n",
       "      <td>Not assigned</td>\n",
       "      <td>#</td>\n",
       "      <td>VIT. A ANIMAL</td>\n",
       "      <td>EOI</td>\n",
       "      <td>12</td>\n",
       "      <td>2011-08-12 09:14</td>\n",
       "      <td>1.65</td>\n",
       "      <td>Cefak KG</td>\n",
       "      <td>14911</td>\n",
       "      <td>Health</td>\n",
       "      <td>Bulgaria</td>\n",
       "      <td>BG</td>\n",
       "      <td>Distributor no</td>\n",
       "      <td>PETROCHEMICALS</td>\n",
       "      <td>CP</td>\n",
       "      <td>19.8</td>\n",
       "      <td>August</td>\n",
       "      <td>Friday</td>\n",
       "    </tr>\n",
       "    <tr>\n",
       "      <th>203889</th>\n",
       "      <td>563203</td>\n",
       "      <td>Not assigned</td>\n",
       "      <td>#</td>\n",
       "      <td>ULD. HISTORY/DELETED</td>\n",
       "      <td>EGN</td>\n",
       "      <td>8</td>\n",
       "      <td>2011-08-14 11:31</td>\n",
       "      <td>8.50</td>\n",
       "      <td>BECA GRAFIC SA</td>\n",
       "      <td>16525</td>\n",
       "      <td>Patent Agent</td>\n",
       "      <td>Czech Republic</td>\n",
       "      <td>CZ</td>\n",
       "      <td>Distributor no</td>\n",
       "      <td>MONOMERS</td>\n",
       "      <td>CM</td>\n",
       "      <td>68.0</td>\n",
       "      <td>August</td>\n",
       "      <td>Sunday</td>\n",
       "    </tr>\n",
       "    <tr>\n",
       "      <th>203890</th>\n",
       "      <td>563234</td>\n",
       "      <td>Not assigned</td>\n",
       "      <td>#</td>\n",
       "      <td>LIZENZEINN. STYRODUR</td>\n",
       "      <td>EOB</td>\n",
       "      <td>8</td>\n",
       "      <td>2011-08-15 08:26</td>\n",
       "      <td>1.25</td>\n",
       "      <td>Green Choice s.r.o.</td>\n",
       "      <td>13621</td>\n",
       "      <td>Packaging</td>\n",
       "      <td>Kenya</td>\n",
       "      <td>KE</td>\n",
       "      <td>Distributor yes</td>\n",
       "      <td>NUTRITION &amp; HEALTH</td>\n",
       "      <td>EN</td>\n",
       "      <td>10.0</td>\n",
       "      <td>August</td>\n",
       "      <td>Monday</td>\n",
       "    </tr>\n",
       "  </tbody>\n",
       "</table>\n",
       "</div>"
      ],
      "text/plain": [
       "        Invoice Sales Product Stock Code            Alpha Code Alpha Code.1  \\\n",
       "203886   563037  Not assigned          #  LIZENZEINN. STYRODUR          EOB   \n",
       "203887   563094  Not assigned          #         ULF. LICENSES          KWW   \n",
       "203888   563098  Not assigned          #         VIT. A ANIMAL          EOI   \n",
       "203889   563203  Not assigned          #  ULD. HISTORY/DELETED          EGN   \n",
       "203890   563234  Not assigned          #  LIZENZEINN. STYRODUR          EOB   \n",
       "\n",
       "        Quantity      Invoice Date  Price per Unit              Customer  \\\n",
       "203886        16  2011-08-11 15:02            1.25  Wolman Wood and Fire   \n",
       "203887         4  2011-08-11 17:35            2.95     DANSK VILOMIX A/S   \n",
       "203888        12  2011-08-12 09:14            1.65              Cefak KG   \n",
       "203889         8  2011-08-14 11:31            8.50        BECA GRAFIC SA   \n",
       "203890         8  2011-08-15 08:26            1.25   Green Choice s.r.o.   \n",
       "\n",
       "        Customer ID      Industry         Country Unnamed: 12  \\\n",
       "203886        12362   Agriculture        Bulgaria          BG   \n",
       "203887        14525        Health          Sweden          SE   \n",
       "203888        14911        Health        Bulgaria          BG   \n",
       "203889        16525  Patent Agent  Czech Republic          CZ   \n",
       "203890        13621     Packaging           Kenya          KE   \n",
       "\n",
       "            Distributor  Operating Division Unnamed: 15  Final Price  \\\n",
       "203886   Distributor no            MONOMERS          CM         20.0   \n",
       "203887   Distributor no      PETROCHEMICALS          CP         11.8   \n",
       "203888   Distributor no      PETROCHEMICALS          CP         19.8   \n",
       "203889   Distributor no            MONOMERS          CM         68.0   \n",
       "203890  Distributor yes  NUTRITION & HEALTH          EN         10.0   \n",
       "\n",
       "       Invoice Month Day of week  \n",
       "203886        August    Thursday  \n",
       "203887        August    Thursday  \n",
       "203888        August      Friday  \n",
       "203889        August      Sunday  \n",
       "203890        August      Monday  "
      ]
     },
     "execution_count": 5,
     "metadata": {},
     "output_type": "execute_result"
    }
   ],
   "source": [
    "df.tail()"
   ]
  },
  {
   "cell_type": "code",
   "execution_count": 6,
   "metadata": {},
   "outputs": [
    {
     "data": {
      "text/plain": [
       "Index(['Invoice', 'Sales Product', 'Stock Code', 'Alpha Code', 'Alpha Code.1',\n",
       "       'Quantity', 'Invoice Date', 'Price per Unit', 'Customer', 'Customer ID',\n",
       "       'Industry', 'Country', 'Unnamed: 12', 'Distributor',\n",
       "       'Operating Division', 'Unnamed: 15', 'Final Price', 'Invoice Month',\n",
       "       'Day of week'],\n",
       "      dtype='object')"
      ]
     },
     "execution_count": 6,
     "metadata": {},
     "output_type": "execute_result"
    }
   ],
   "source": [
    "# Getting all column names \n",
    "df.columns"
   ]
  },
  {
   "cell_type": "code",
   "execution_count": 7,
   "metadata": {},
   "outputs": [
    {
     "data": {
      "text/plain": [
       "(203891, 19)"
      ]
     },
     "execution_count": 7,
     "metadata": {},
     "output_type": "execute_result"
    }
   ],
   "source": [
    "# Dataset has 203891 rows and 19 columns \n",
    "df.shape"
   ]
  },
  {
   "cell_type": "code",
   "execution_count": 8,
   "metadata": {},
   "outputs": [
    {
     "name": "stdout",
     "output_type": "stream",
     "text": [
      "<class 'pandas.core.frame.DataFrame'>\n",
      "RangeIndex: 203891 entries, 0 to 203890\n",
      "Data columns (total 19 columns):\n",
      " #   Column              Non-Null Count   Dtype  \n",
      "---  ------              --------------   -----  \n",
      " 0   Invoice             203891 non-null  int64  \n",
      " 1   Sales Product       203891 non-null  object \n",
      " 2   Stock Code          203891 non-null  object \n",
      " 3   Alpha Code          203891 non-null  object \n",
      " 4   Alpha Code.1        203891 non-null  object \n",
      " 5   Quantity            203891 non-null  int64  \n",
      " 6   Invoice Date        203891 non-null  object \n",
      " 7   Price per Unit      203891 non-null  float64\n",
      " 8   Customer            203891 non-null  object \n",
      " 9   Customer ID         203891 non-null  int64  \n",
      " 10  Industry            203891 non-null  object \n",
      " 11  Country             203891 non-null  object \n",
      " 12  Unnamed: 12         203891 non-null  object \n",
      " 13  Distributor         203891 non-null  object \n",
      " 14  Operating Division  203891 non-null  object \n",
      " 15  Unnamed: 15         203891 non-null  object \n",
      " 16  Final Price         203891 non-null  float64\n",
      " 17  Invoice Month       203891 non-null  object \n",
      " 18  Day of week         203891 non-null  object \n",
      "dtypes: float64(2), int64(3), object(14)\n",
      "memory usage: 29.6+ MB\n"
     ]
    }
   ],
   "source": [
    "df.info()"
   ]
  },
  {
   "cell_type": "code",
   "execution_count": 9,
   "metadata": {},
   "outputs": [
    {
     "data": {
      "text/html": [
       "<div>\n",
       "<style scoped>\n",
       "    .dataframe tbody tr th:only-of-type {\n",
       "        vertical-align: middle;\n",
       "    }\n",
       "\n",
       "    .dataframe tbody tr th {\n",
       "        vertical-align: top;\n",
       "    }\n",
       "\n",
       "    .dataframe thead th {\n",
       "        text-align: right;\n",
       "    }\n",
       "</style>\n",
       "<table border=\"1\" class=\"dataframe\">\n",
       "  <thead>\n",
       "    <tr style=\"text-align: right;\">\n",
       "      <th></th>\n",
       "      <th>Invoice</th>\n",
       "      <th>Quantity</th>\n",
       "      <th>Price per Unit</th>\n",
       "      <th>Customer ID</th>\n",
       "      <th>Final Price</th>\n",
       "    </tr>\n",
       "  </thead>\n",
       "  <tbody>\n",
       "    <tr>\n",
       "      <th>count</th>\n",
       "      <td>203891.000000</td>\n",
       "      <td>203891.000000</td>\n",
       "      <td>203891.00000</td>\n",
       "      <td>203891.000000</td>\n",
       "      <td>203891.000000</td>\n",
       "    </tr>\n",
       "    <tr>\n",
       "      <th>mean</th>\n",
       "      <td>549651.687814</td>\n",
       "      <td>12.585068</td>\n",
       "      <td>2.90659</td>\n",
       "      <td>15289.184221</td>\n",
       "      <td>23.608508</td>\n",
       "    </tr>\n",
       "    <tr>\n",
       "      <th>std</th>\n",
       "      <td>7583.459534</td>\n",
       "      <td>32.840602</td>\n",
       "      <td>2.82691</td>\n",
       "      <td>1727.360851</td>\n",
       "      <td>77.791861</td>\n",
       "    </tr>\n",
       "    <tr>\n",
       "      <th>min</th>\n",
       "      <td>536365.000000</td>\n",
       "      <td>1.000000</td>\n",
       "      <td>0.04000</td>\n",
       "      <td>12347.000000</td>\n",
       "      <td>0.100000</td>\n",
       "    </tr>\n",
       "    <tr>\n",
       "      <th>25%</th>\n",
       "      <td>543277.000000</td>\n",
       "      <td>2.000000</td>\n",
       "      <td>1.25000</td>\n",
       "      <td>13869.000000</td>\n",
       "      <td>5.000000</td>\n",
       "    </tr>\n",
       "    <tr>\n",
       "      <th>50%</th>\n",
       "      <td>549577.000000</td>\n",
       "      <td>6.000000</td>\n",
       "      <td>1.95000</td>\n",
       "      <td>15152.000000</td>\n",
       "      <td>12.600000</td>\n",
       "    </tr>\n",
       "    <tr>\n",
       "      <th>75%</th>\n",
       "      <td>556202.000000</td>\n",
       "      <td>12.000000</td>\n",
       "      <td>3.75000</td>\n",
       "      <td>16839.000000</td>\n",
       "      <td>19.800000</td>\n",
       "    </tr>\n",
       "    <tr>\n",
       "      <th>max</th>\n",
       "      <td>563237.000000</td>\n",
       "      <td>1056.000000</td>\n",
       "      <td>16.95000</td>\n",
       "      <td>18287.000000</td>\n",
       "      <td>5970.000000</td>\n",
       "    </tr>\n",
       "  </tbody>\n",
       "</table>\n",
       "</div>"
      ],
      "text/plain": [
       "             Invoice       Quantity  Price per Unit    Customer ID  \\\n",
       "count  203891.000000  203891.000000    203891.00000  203891.000000   \n",
       "mean   549651.687814      12.585068         2.90659   15289.184221   \n",
       "std      7583.459534      32.840602         2.82691    1727.360851   \n",
       "min    536365.000000       1.000000         0.04000   12347.000000   \n",
       "25%    543277.000000       2.000000         1.25000   13869.000000   \n",
       "50%    549577.000000       6.000000         1.95000   15152.000000   \n",
       "75%    556202.000000      12.000000         3.75000   16839.000000   \n",
       "max    563237.000000    1056.000000        16.95000   18287.000000   \n",
       "\n",
       "         Final Price  \n",
       "count  203891.000000  \n",
       "mean       23.608508  \n",
       "std        77.791861  \n",
       "min         0.100000  \n",
       "25%         5.000000  \n",
       "50%        12.600000  \n",
       "75%        19.800000  \n",
       "max      5970.000000  "
      ]
     },
     "execution_count": 9,
     "metadata": {},
     "output_type": "execute_result"
    }
   ],
   "source": [
    "# First look at numerical data \n",
    "# Numbers at this point may be odd and give us directions for data cleaning\n",
    "df.describe()"
   ]
  },
  {
   "cell_type": "markdown",
   "metadata": {},
   "source": [
    "### Data cleaning "
   ]
  },
  {
   "cell_type": "markdown",
   "metadata": {},
   "source": [
    "#### Duplicated data"
   ]
  },
  {
   "cell_type": "code",
   "execution_count": 10,
   "metadata": {},
   "outputs": [
    {
     "data": {
      "text/plain": [
       "2265"
      ]
     },
     "execution_count": 10,
     "metadata": {},
     "output_type": "execute_result"
    }
   ],
   "source": [
    "df.duplicated().sum()"
   ]
  },
  {
   "cell_type": "code",
   "execution_count": 11,
   "metadata": {},
   "outputs": [
    {
     "data": {
      "text/html": [
       "<div>\n",
       "<style scoped>\n",
       "    .dataframe tbody tr th:only-of-type {\n",
       "        vertical-align: middle;\n",
       "    }\n",
       "\n",
       "    .dataframe tbody tr th {\n",
       "        vertical-align: top;\n",
       "    }\n",
       "\n",
       "    .dataframe thead th {\n",
       "        text-align: right;\n",
       "    }\n",
       "</style>\n",
       "<table border=\"1\" class=\"dataframe\">\n",
       "  <thead>\n",
       "    <tr style=\"text-align: right;\">\n",
       "      <th></th>\n",
       "      <th>Invoice</th>\n",
       "      <th>Sales Product</th>\n",
       "      <th>Stock Code</th>\n",
       "      <th>Alpha Code</th>\n",
       "      <th>Alpha Code.1</th>\n",
       "      <th>Quantity</th>\n",
       "      <th>Invoice Date</th>\n",
       "      <th>Price per Unit</th>\n",
       "      <th>Customer</th>\n",
       "      <th>Customer ID</th>\n",
       "      <th>Industry</th>\n",
       "      <th>Country</th>\n",
       "      <th>Unnamed: 12</th>\n",
       "      <th>Distributor</th>\n",
       "      <th>Operating Division</th>\n",
       "      <th>Unnamed: 15</th>\n",
       "      <th>Final Price</th>\n",
       "      <th>Invoice Month</th>\n",
       "      <th>Day of week</th>\n",
       "    </tr>\n",
       "  </thead>\n",
       "  <tbody>\n",
       "    <tr>\n",
       "      <th>81</th>\n",
       "      <td>562204</td>\n",
       "      <td>DISPONIL GL 3060</td>\n",
       "      <td>90209B</td>\n",
       "      <td>FAE TYPES</td>\n",
       "      <td>DRG</td>\n",
       "      <td>1</td>\n",
       "      <td>2011-08-03 12:54</td>\n",
       "      <td>2.07</td>\n",
       "      <td>LAINCO, S.A.</td>\n",
       "      <td>16324</td>\n",
       "      <td>Agriculture</td>\n",
       "      <td>Czech Republic</td>\n",
       "      <td>CZ</td>\n",
       "      <td>Distributor no</td>\n",
       "      <td>MONOMERS</td>\n",
       "      <td>CM</td>\n",
       "      <td>2.07</td>\n",
       "      <td>August</td>\n",
       "      <td>Wednesday</td>\n",
       "    </tr>\n",
       "    <tr>\n",
       "      <th>82</th>\n",
       "      <td>562204</td>\n",
       "      <td>DISPONIL GL 3060</td>\n",
       "      <td>90209B</td>\n",
       "      <td>FAE TYPES</td>\n",
       "      <td>DRG</td>\n",
       "      <td>1</td>\n",
       "      <td>2011-08-03 12:54</td>\n",
       "      <td>2.07</td>\n",
       "      <td>LAINCO, S.A.</td>\n",
       "      <td>16324</td>\n",
       "      <td>Agriculture</td>\n",
       "      <td>Czech Republic</td>\n",
       "      <td>CZ</td>\n",
       "      <td>Distributor no</td>\n",
       "      <td>MONOMERS</td>\n",
       "      <td>CM</td>\n",
       "      <td>2.07</td>\n",
       "      <td>August</td>\n",
       "      <td>Wednesday</td>\n",
       "    </tr>\n",
       "    <tr>\n",
       "      <th>136</th>\n",
       "      <td>554112</td>\n",
       "      <td>DISPONIL ODSLS</td>\n",
       "      <td>90200D</td>\n",
       "      <td>BLENDS &amp; OTHER SURFA</td>\n",
       "      <td>6CB</td>\n",
       "      <td>1</td>\n",
       "      <td>2011-05-22 14:44</td>\n",
       "      <td>4.15</td>\n",
       "      <td>Kluthe Benelux B.V.</td>\n",
       "      <td>17611</td>\n",
       "      <td>Soaps and Detergents</td>\n",
       "      <td>Morocco</td>\n",
       "      <td>MA</td>\n",
       "      <td>Distributor no</td>\n",
       "      <td>NUTRITION &amp; HEALTH</td>\n",
       "      <td>EN</td>\n",
       "      <td>4.15</td>\n",
       "      <td>May</td>\n",
       "      <td>Sunday</td>\n",
       "    </tr>\n",
       "    <tr>\n",
       "      <th>137</th>\n",
       "      <td>554112</td>\n",
       "      <td>DISPONIL ODSLS</td>\n",
       "      <td>90200D</td>\n",
       "      <td>BLENDS &amp; OTHER SURFA</td>\n",
       "      <td>6CB</td>\n",
       "      <td>1</td>\n",
       "      <td>2011-05-22 14:44</td>\n",
       "      <td>4.15</td>\n",
       "      <td>Kluthe Benelux B.V.</td>\n",
       "      <td>17611</td>\n",
       "      <td>Soaps and Detergents</td>\n",
       "      <td>Morocco</td>\n",
       "      <td>MA</td>\n",
       "      <td>Distributor no</td>\n",
       "      <td>NUTRITION &amp; HEALTH</td>\n",
       "      <td>EN</td>\n",
       "      <td>4.15</td>\n",
       "      <td>May</td>\n",
       "      <td>Sunday</td>\n",
       "    </tr>\n",
       "    <tr>\n",
       "      <th>226</th>\n",
       "      <td>562551</td>\n",
       "      <td>ECOVIO EA 200</td>\n",
       "      <td>90186A</td>\n",
       "      <td>ECOVIO FOAM</td>\n",
       "      <td>LKB</td>\n",
       "      <td>1</td>\n",
       "      <td>2011-08-05 16:19</td>\n",
       "      <td>2.90</td>\n",
       "      <td>DAFA A/S</td>\n",
       "      <td>17231</td>\n",
       "      <td>Health</td>\n",
       "      <td>Sweden</td>\n",
       "      <td>SE</td>\n",
       "      <td>Distributor no</td>\n",
       "      <td>CARE CHEMICALS</td>\n",
       "      <td>EM</td>\n",
       "      <td>2.90</td>\n",
       "      <td>August</td>\n",
       "      <td>Friday</td>\n",
       "    </tr>\n",
       "    <tr>\n",
       "      <th>...</th>\n",
       "      <td>...</td>\n",
       "      <td>...</td>\n",
       "      <td>...</td>\n",
       "      <td>...</td>\n",
       "      <td>...</td>\n",
       "      <td>...</td>\n",
       "      <td>...</td>\n",
       "      <td>...</td>\n",
       "      <td>...</td>\n",
       "      <td>...</td>\n",
       "      <td>...</td>\n",
       "      <td>...</td>\n",
       "      <td>...</td>\n",
       "      <td>...</td>\n",
       "      <td>...</td>\n",
       "      <td>...</td>\n",
       "      <td>...</td>\n",
       "      <td>...</td>\n",
       "      <td>...</td>\n",
       "    </tr>\n",
       "    <tr>\n",
       "      <th>203557</th>\n",
       "      <td>556915</td>\n",
       "      <td>Not assigned</td>\n",
       "      <td>#</td>\n",
       "      <td>OTHER PA 6 MONOMERS</td>\n",
       "      <td>EBN</td>\n",
       "      <td>2</td>\n",
       "      <td>2011-06-15 13:35</td>\n",
       "      <td>6.25</td>\n",
       "      <td>Storit-Werke  AG</td>\n",
       "      <td>15036</td>\n",
       "      <td>#</td>\n",
       "      <td>South Korea</td>\n",
       "      <td>KR</td>\n",
       "      <td>Distributor no</td>\n",
       "      <td>CARE CHEMICALS</td>\n",
       "      <td>EM</td>\n",
       "      <td>12.50</td>\n",
       "      <td>June</td>\n",
       "      <td>Wednesday</td>\n",
       "    </tr>\n",
       "    <tr>\n",
       "      <th>203799</th>\n",
       "      <td>561026</td>\n",
       "      <td>Not assigned</td>\n",
       "      <td>#</td>\n",
       "      <td>OTHER PA 6 MONOMERS</td>\n",
       "      <td>EBN</td>\n",
       "      <td>1</td>\n",
       "      <td>2011-07-24 10:49</td>\n",
       "      <td>6.25</td>\n",
       "      <td>AB AGRI LIMITED</td>\n",
       "      <td>17265</td>\n",
       "      <td>Construction</td>\n",
       "      <td>Indonesia</td>\n",
       "      <td>ID</td>\n",
       "      <td>Distributor no</td>\n",
       "      <td>PETROCHEMICALS</td>\n",
       "      <td>CP</td>\n",
       "      <td>6.25</td>\n",
       "      <td>July</td>\n",
       "      <td>Sunday</td>\n",
       "    </tr>\n",
       "    <tr>\n",
       "      <th>203800</th>\n",
       "      <td>561026</td>\n",
       "      <td>Not assigned</td>\n",
       "      <td>#</td>\n",
       "      <td>OTHER PA 6 MONOMERS</td>\n",
       "      <td>EBN</td>\n",
       "      <td>1</td>\n",
       "      <td>2011-07-24 10:49</td>\n",
       "      <td>6.25</td>\n",
       "      <td>AB AGRI LIMITED</td>\n",
       "      <td>17265</td>\n",
       "      <td>Construction</td>\n",
       "      <td>Indonesia</td>\n",
       "      <td>ID</td>\n",
       "      <td>Distributor no</td>\n",
       "      <td>PETROCHEMICALS</td>\n",
       "      <td>CP</td>\n",
       "      <td>6.25</td>\n",
       "      <td>July</td>\n",
       "      <td>Sunday</td>\n",
       "    </tr>\n",
       "    <tr>\n",
       "      <th>203861</th>\n",
       "      <td>562258</td>\n",
       "      <td>Not assigned</td>\n",
       "      <td>#</td>\n",
       "      <td>NONTRADE BUSINESS -</td>\n",
       "      <td>6FJ</td>\n",
       "      <td>1</td>\n",
       "      <td>2011-08-03 15:28</td>\n",
       "      <td>1.25</td>\n",
       "      <td>S. JANSSEN Chemiehan</td>\n",
       "      <td>16348</td>\n",
       "      <td>Construction</td>\n",
       "      <td>Bulgaria</td>\n",
       "      <td>BG</td>\n",
       "      <td>Distributor no</td>\n",
       "      <td>MONOMERS</td>\n",
       "      <td>CM</td>\n",
       "      <td>1.25</td>\n",
       "      <td>August</td>\n",
       "      <td>Wednesday</td>\n",
       "    </tr>\n",
       "    <tr>\n",
       "      <th>203862</th>\n",
       "      <td>562258</td>\n",
       "      <td>Not assigned</td>\n",
       "      <td>#</td>\n",
       "      <td>NONTRADE BUSINESS -</td>\n",
       "      <td>6FJ</td>\n",
       "      <td>1</td>\n",
       "      <td>2011-08-03 15:28</td>\n",
       "      <td>1.25</td>\n",
       "      <td>S. JANSSEN Chemiehan</td>\n",
       "      <td>16348</td>\n",
       "      <td>Construction</td>\n",
       "      <td>Bulgaria</td>\n",
       "      <td>BG</td>\n",
       "      <td>Distributor no</td>\n",
       "      <td>MONOMERS</td>\n",
       "      <td>CM</td>\n",
       "      <td>1.25</td>\n",
       "      <td>August</td>\n",
       "      <td>Wednesday</td>\n",
       "    </tr>\n",
       "  </tbody>\n",
       "</table>\n",
       "<p>4355 rows × 19 columns</p>\n",
       "</div>"
      ],
      "text/plain": [
       "        Invoice     Sales Product Stock Code            Alpha Code  \\\n",
       "81       562204  DISPONIL GL 3060     90209B             FAE TYPES   \n",
       "82       562204  DISPONIL GL 3060     90209B             FAE TYPES   \n",
       "136      554112    DISPONIL ODSLS     90200D  BLENDS & OTHER SURFA   \n",
       "137      554112    DISPONIL ODSLS     90200D  BLENDS & OTHER SURFA   \n",
       "226      562551     ECOVIO EA 200     90186A           ECOVIO FOAM   \n",
       "...         ...               ...        ...                   ...   \n",
       "203557   556915      Not assigned          #   OTHER PA 6 MONOMERS   \n",
       "203799   561026      Not assigned          #   OTHER PA 6 MONOMERS   \n",
       "203800   561026      Not assigned          #   OTHER PA 6 MONOMERS   \n",
       "203861   562258      Not assigned          #   NONTRADE BUSINESS -   \n",
       "203862   562258      Not assigned          #   NONTRADE BUSINESS -   \n",
       "\n",
       "       Alpha Code.1  Quantity      Invoice Date  Price per Unit  \\\n",
       "81              DRG         1  2011-08-03 12:54            2.07   \n",
       "82              DRG         1  2011-08-03 12:54            2.07   \n",
       "136             6CB         1  2011-05-22 14:44            4.15   \n",
       "137             6CB         1  2011-05-22 14:44            4.15   \n",
       "226             LKB         1  2011-08-05 16:19            2.90   \n",
       "...             ...       ...               ...             ...   \n",
       "203557          EBN         2  2011-06-15 13:35            6.25   \n",
       "203799          EBN         1  2011-07-24 10:49            6.25   \n",
       "203800          EBN         1  2011-07-24 10:49            6.25   \n",
       "203861          6FJ         1  2011-08-03 15:28            1.25   \n",
       "203862          6FJ         1  2011-08-03 15:28            1.25   \n",
       "\n",
       "                    Customer  Customer ID              Industry  \\\n",
       "81              LAINCO, S.A.        16324           Agriculture   \n",
       "82              LAINCO, S.A.        16324           Agriculture   \n",
       "136      Kluthe Benelux B.V.        17611  Soaps and Detergents   \n",
       "137      Kluthe Benelux B.V.        17611  Soaps and Detergents   \n",
       "226                 DAFA A/S        17231                Health   \n",
       "...                      ...          ...                   ...   \n",
       "203557      Storit-Werke  AG        15036                     #   \n",
       "203799       AB AGRI LIMITED        17265          Construction   \n",
       "203800       AB AGRI LIMITED        17265          Construction   \n",
       "203861  S. JANSSEN Chemiehan        16348          Construction   \n",
       "203862  S. JANSSEN Chemiehan        16348          Construction   \n",
       "\n",
       "               Country Unnamed: 12     Distributor  Operating Division  \\\n",
       "81      Czech Republic          CZ  Distributor no            MONOMERS   \n",
       "82      Czech Republic          CZ  Distributor no            MONOMERS   \n",
       "136            Morocco          MA  Distributor no  NUTRITION & HEALTH   \n",
       "137            Morocco          MA  Distributor no  NUTRITION & HEALTH   \n",
       "226             Sweden          SE  Distributor no      CARE CHEMICALS   \n",
       "...                ...         ...             ...                 ...   \n",
       "203557     South Korea          KR  Distributor no      CARE CHEMICALS   \n",
       "203799       Indonesia          ID  Distributor no      PETROCHEMICALS   \n",
       "203800       Indonesia          ID  Distributor no      PETROCHEMICALS   \n",
       "203861        Bulgaria          BG  Distributor no            MONOMERS   \n",
       "203862        Bulgaria          BG  Distributor no            MONOMERS   \n",
       "\n",
       "       Unnamed: 15  Final Price Invoice Month Day of week  \n",
       "81              CM         2.07        August   Wednesday  \n",
       "82              CM         2.07        August   Wednesday  \n",
       "136             EN         4.15           May      Sunday  \n",
       "137             EN         4.15           May      Sunday  \n",
       "226             EM         2.90        August      Friday  \n",
       "...            ...          ...           ...         ...  \n",
       "203557          EM        12.50          June   Wednesday  \n",
       "203799          CP         6.25          July      Sunday  \n",
       "203800          CP         6.25          July      Sunday  \n",
       "203861          CM         1.25        August   Wednesday  \n",
       "203862          CM         1.25        August   Wednesday  \n",
       "\n",
       "[4355 rows x 19 columns]"
      ]
     },
     "execution_count": 11,
     "metadata": {},
     "output_type": "execute_result"
    }
   ],
   "source": [
    "df[df.duplicated(keep=False)]"
   ]
  },
  {
   "cell_type": "code",
   "execution_count": 12,
   "metadata": {},
   "outputs": [],
   "source": [
    "# Removing duplicates \n",
    "df = df.drop_duplicates()"
   ]
  },
  {
   "cell_type": "code",
   "execution_count": 13,
   "metadata": {},
   "outputs": [
    {
     "data": {
      "text/plain": [
       "(201626, 19)"
      ]
     },
     "execution_count": 13,
     "metadata": {},
     "output_type": "execute_result"
    }
   ],
   "source": [
    "df.shape"
   ]
  },
  {
   "cell_type": "markdown",
   "metadata": {},
   "source": [
    "Data were probably collected from multiple sources, which may cause some duplicates. <br> After removal, dataset has 201626 rows and 19 columns."
   ]
  },
  {
   "cell_type": "markdown",
   "metadata": {},
   "source": [
    "#### Missing or invalid values"
   ]
  },
  {
   "cell_type": "code",
   "execution_count": 14,
   "metadata": {},
   "outputs": [
    {
     "data": {
      "text/plain": [
       "Invoice               0\n",
       "Sales Product         0\n",
       "Stock Code            0\n",
       "Alpha Code            0\n",
       "Alpha Code.1          0\n",
       "Quantity              0\n",
       "Invoice Date          0\n",
       "Price per Unit        0\n",
       "Customer              0\n",
       "Customer ID           0\n",
       "Industry              0\n",
       "Country               0\n",
       "Unnamed: 12           0\n",
       "Distributor           0\n",
       "Operating Division    0\n",
       "Unnamed: 15           0\n",
       "Final Price           0\n",
       "Invoice Month         0\n",
       "Day of week           0\n",
       "dtype: int64"
      ]
     },
     "execution_count": 14,
     "metadata": {},
     "output_type": "execute_result"
    }
   ],
   "source": [
    "df.isnull().sum()"
   ]
  },
  {
   "cell_type": "markdown",
   "metadata": {},
   "source": [
    "On first, data has no missing values - but we will take a closer look: "
   ]
  },
  {
   "cell_type": "markdown",
   "metadata": {},
   "source": [
    "##### Invoice"
   ]
  },
  {
   "cell_type": "code",
   "execution_count": 15,
   "metadata": {},
   "outputs": [
    {
     "name": "stdout",
     "output_type": "stream",
     "text": [
      "Number of unique invoices: 10292\n"
     ]
    }
   ],
   "source": [
    "print(\"Number of unique invoices:\", len(df['Invoice'].unique().tolist()))"
   ]
  },
  {
   "cell_type": "markdown",
   "metadata": {},
   "source": [
    "This dataset contains 10292 different transactions. <br> \n",
    "Each individual transaction could include a single product, or it could include multiple products. "
   ]
  },
  {
   "cell_type": "markdown",
   "metadata": {},
   "source": [
    "##### Sales Product"
   ]
  },
  {
   "cell_type": "code",
   "execution_count": 16,
   "metadata": {},
   "outputs": [
    {
     "name": "stdout",
     "output_type": "stream",
     "text": [
      "Number of unique sales products: 3225\n"
     ]
    }
   ],
   "source": [
    "print(\"Number of unique sales products:\", len(df['Sales Product'].unique().tolist()))"
   ]
  },
  {
   "cell_type": "code",
   "execution_count": 17,
   "metadata": {},
   "outputs": [
    {
     "data": {
      "text/plain": [
       "OASE WHITE ENRICHED     1324\n",
       "Not assigned            1244\n",
       "E A C 70 A 10HPM000     1113\n",
       "CUTINA SHINE             986\n",
       "DEMELAN 1990             875\n",
       "E 1195 A 55U000          801\n",
       "KAURIT GLUE 325 LIQ      790\n",
       "PBT.NT                   687\n",
       "N,N-DIMETHYLACETAMID     665\n",
       "E 794 A 15CS000          637\n",
       "Name: Sales Product, dtype: int64"
      ]
     },
     "execution_count": 17,
     "metadata": {},
     "output_type": "execute_result"
    }
   ],
   "source": [
    "# Ten best-selling products \n",
    "df['Sales Product'].value_counts().head(10)"
   ]
  },
  {
   "cell_type": "markdown",
   "metadata": {},
   "source": [
    "We notice 'Not assigned' category high among sales products. This category represents missing data, and it should be imputed or dropped.  "
   ]
  },
  {
   "cell_type": "code",
   "execution_count": 18,
   "metadata": {},
   "outputs": [
    {
     "data": {
      "text/html": [
       "<div>\n",
       "<style scoped>\n",
       "    .dataframe tbody tr th:only-of-type {\n",
       "        vertical-align: middle;\n",
       "    }\n",
       "\n",
       "    .dataframe tbody tr th {\n",
       "        vertical-align: top;\n",
       "    }\n",
       "\n",
       "    .dataframe thead th {\n",
       "        text-align: right;\n",
       "    }\n",
       "</style>\n",
       "<table border=\"1\" class=\"dataframe\">\n",
       "  <thead>\n",
       "    <tr style=\"text-align: right;\">\n",
       "      <th></th>\n",
       "      <th>Invoice</th>\n",
       "      <th>Sales Product</th>\n",
       "      <th>Stock Code</th>\n",
       "      <th>Alpha Code</th>\n",
       "      <th>Alpha Code.1</th>\n",
       "      <th>Quantity</th>\n",
       "      <th>Invoice Date</th>\n",
       "      <th>Price per Unit</th>\n",
       "      <th>Customer</th>\n",
       "      <th>Customer ID</th>\n",
       "      <th>Industry</th>\n",
       "      <th>Country</th>\n",
       "      <th>Unnamed: 12</th>\n",
       "      <th>Distributor</th>\n",
       "      <th>Operating Division</th>\n",
       "      <th>Unnamed: 15</th>\n",
       "      <th>Final Price</th>\n",
       "      <th>Invoice Month</th>\n",
       "      <th>Day of week</th>\n",
       "    </tr>\n",
       "  </thead>\n",
       "  <tbody>\n",
       "    <tr>\n",
       "      <th>202635</th>\n",
       "      <td>536370</td>\n",
       "      <td>Not assigned</td>\n",
       "      <td>#</td>\n",
       "      <td>BUGR/Not assigned</td>\n",
       "      <td>#</td>\n",
       "      <td>48</td>\n",
       "      <td>2010-12-01 08:45</td>\n",
       "      <td>0.85</td>\n",
       "      <td>ARAUCO ARGENTINA SA</td>\n",
       "      <td>12583</td>\n",
       "      <td>Agriculture</td>\n",
       "      <td>Honduras</td>\n",
       "      <td>HN</td>\n",
       "      <td>Distributor yes</td>\n",
       "      <td>PERFORMANCE MATERIAL</td>\n",
       "      <td>PM</td>\n",
       "      <td>40.80</td>\n",
       "      <td>December</td>\n",
       "      <td>Wednesday</td>\n",
       "    </tr>\n",
       "    <tr>\n",
       "      <th>202636</th>\n",
       "      <td>536376</td>\n",
       "      <td>Not assigned</td>\n",
       "      <td>#</td>\n",
       "      <td>TRANSFERS.-UGRU KTU</td>\n",
       "      <td>JVF</td>\n",
       "      <td>48</td>\n",
       "      <td>2010-12-01 09:32</td>\n",
       "      <td>4.25</td>\n",
       "      <td>MORISON PLC</td>\n",
       "      <td>15291</td>\n",
       "      <td>Other</td>\n",
       "      <td>New Zealand</td>\n",
       "      <td>NZ</td>\n",
       "      <td>Distributor no</td>\n",
       "      <td>PETROCHEMICALS</td>\n",
       "      <td>CP</td>\n",
       "      <td>204.00</td>\n",
       "      <td>December</td>\n",
       "      <td>Wednesday</td>\n",
       "    </tr>\n",
       "    <tr>\n",
       "      <th>202637</th>\n",
       "      <td>536381</td>\n",
       "      <td>Not assigned</td>\n",
       "      <td>#</td>\n",
       "      <td>NOT ASSIGNED</td>\n",
       "      <td>EFQ</td>\n",
       "      <td>5</td>\n",
       "      <td>2010-12-01 09:41</td>\n",
       "      <td>4.95</td>\n",
       "      <td>UPL SOUTH AFRICA (PT</td>\n",
       "      <td>15311</td>\n",
       "      <td>#</td>\n",
       "      <td>UAE</td>\n",
       "      <td>AE</td>\n",
       "      <td>Distributor no</td>\n",
       "      <td>MONOMERS</td>\n",
       "      <td>CM</td>\n",
       "      <td>24.75</td>\n",
       "      <td>December</td>\n",
       "      <td>Wednesday</td>\n",
       "    </tr>\n",
       "    <tr>\n",
       "      <th>202638</th>\n",
       "      <td>536382</td>\n",
       "      <td>Not assigned</td>\n",
       "      <td>#</td>\n",
       "      <td>BUGR/Not assigned</td>\n",
       "      <td>#</td>\n",
       "      <td>12</td>\n",
       "      <td>2010-12-01 09:45</td>\n",
       "      <td>0.85</td>\n",
       "      <td>Benet Automotive s.r</td>\n",
       "      <td>16098</td>\n",
       "      <td>Construction</td>\n",
       "      <td>Kenya</td>\n",
       "      <td>KE</td>\n",
       "      <td>Distributor no</td>\n",
       "      <td>CARE CHEMICALS</td>\n",
       "      <td>EM</td>\n",
       "      <td>10.20</td>\n",
       "      <td>December</td>\n",
       "      <td>Wednesday</td>\n",
       "    </tr>\n",
       "    <tr>\n",
       "      <th>202639</th>\n",
       "      <td>536395</td>\n",
       "      <td>Not assigned</td>\n",
       "      <td>#</td>\n",
       "      <td>TRANSFERS.-UGRU KTU</td>\n",
       "      <td>JVF</td>\n",
       "      <td>8</td>\n",
       "      <td>2010-12-01 10:47</td>\n",
       "      <td>4.25</td>\n",
       "      <td>Terramak Laborproduk</td>\n",
       "      <td>13767</td>\n",
       "      <td>#</td>\n",
       "      <td>Bulgaria</td>\n",
       "      <td>BG</td>\n",
       "      <td>Distributor yes</td>\n",
       "      <td>INTERMEDIATES</td>\n",
       "      <td>CI</td>\n",
       "      <td>34.00</td>\n",
       "      <td>December</td>\n",
       "      <td>Wednesday</td>\n",
       "    </tr>\n",
       "  </tbody>\n",
       "</table>\n",
       "</div>"
      ],
      "text/plain": [
       "        Invoice Sales Product Stock Code           Alpha Code Alpha Code.1  \\\n",
       "202635   536370  Not assigned          #    BUGR/Not assigned            #   \n",
       "202636   536376  Not assigned          #  TRANSFERS.-UGRU KTU          JVF   \n",
       "202637   536381  Not assigned          #         NOT ASSIGNED          EFQ   \n",
       "202638   536382  Not assigned          #    BUGR/Not assigned            #   \n",
       "202639   536395  Not assigned          #  TRANSFERS.-UGRU KTU          JVF   \n",
       "\n",
       "        Quantity      Invoice Date  Price per Unit              Customer  \\\n",
       "202635        48  2010-12-01 08:45            0.85   ARAUCO ARGENTINA SA   \n",
       "202636        48  2010-12-01 09:32            4.25           MORISON PLC   \n",
       "202637         5  2010-12-01 09:41            4.95  UPL SOUTH AFRICA (PT   \n",
       "202638        12  2010-12-01 09:45            0.85  Benet Automotive s.r   \n",
       "202639         8  2010-12-01 10:47            4.25  Terramak Laborproduk   \n",
       "\n",
       "        Customer ID      Industry      Country Unnamed: 12      Distributor  \\\n",
       "202635        12583   Agriculture     Honduras          HN  Distributor yes   \n",
       "202636        15291         Other  New Zealand          NZ   Distributor no   \n",
       "202637        15311             #          UAE          AE   Distributor no   \n",
       "202638        16098  Construction        Kenya          KE   Distributor no   \n",
       "202639        13767             #     Bulgaria          BG  Distributor yes   \n",
       "\n",
       "          Operating Division Unnamed: 15  Final Price Invoice Month  \\\n",
       "202635  PERFORMANCE MATERIAL          PM        40.80      December   \n",
       "202636        PETROCHEMICALS          CP       204.00      December   \n",
       "202637              MONOMERS          CM        24.75      December   \n",
       "202638        CARE CHEMICALS          EM        10.20      December   \n",
       "202639         INTERMEDIATES          CI        34.00      December   \n",
       "\n",
       "       Day of week  \n",
       "202635   Wednesday  \n",
       "202636   Wednesday  \n",
       "202637   Wednesday  \n",
       "202638   Wednesday  \n",
       "202639   Wednesday  "
      ]
     },
     "execution_count": 18,
     "metadata": {},
     "output_type": "execute_result"
    }
   ],
   "source": [
    "df_copy = df[df['Sales Product'] == 'Not assigned']\n",
    "df_copy.head()"
   ]
  },
  {
   "cell_type": "code",
   "execution_count": 19,
   "metadata": {},
   "outputs": [],
   "source": [
    "# Dropping missing values because of the context\n",
    "df = df[df['Sales Product'] != 'Not assigned']"
   ]
  },
  {
   "cell_type": "code",
   "execution_count": 20,
   "metadata": {},
   "outputs": [
    {
     "data": {
      "text/plain": [
       "OASE WHITE ENRICHED     1324\n",
       "E A C 70 A 10HPM000     1113\n",
       "CUTINA SHINE             986\n",
       "DEMELAN 1990             875\n",
       "E 1195 A 55U000          801\n",
       "KAURIT GLUE 325 LIQ      790\n",
       "PBT.NT                   687\n",
       "N,N-DIMETHYLACETAMID     665\n",
       "E 794 A 15CS000          637\n",
       "ES 85 A 10 000           612\n",
       "Name: Sales Product, dtype: int64"
      ]
     },
     "execution_count": 20,
     "metadata": {},
     "output_type": "execute_result"
    }
   ],
   "source": [
    "# Checking the result\n",
    "df['Sales Product'].value_counts().head(10)"
   ]
  },
  {
   "cell_type": "markdown",
   "metadata": {},
   "source": [
    "##### Stock Code "
   ]
  },
  {
   "cell_type": "markdown",
   "metadata": {},
   "source": [
    "Represents scannable bar code, most often printed on product labels."
   ]
  },
  {
   "cell_type": "code",
   "execution_count": 21,
   "metadata": {},
   "outputs": [
    {
     "name": "stdout",
     "output_type": "stream",
     "text": [
      "Number of unique stock codes: 3289\n"
     ]
    }
   ],
   "source": [
    "print(\"Number of unique stock codes:\", len(df['Stock Code'].unique()))"
   ]
  },
  {
   "cell_type": "markdown",
   "metadata": {},
   "source": [
    "Numbers for unique sales product and stock code should match. Is this a data quality issue? "
   ]
  },
  {
   "cell_type": "code",
   "execution_count": 22,
   "metadata": {},
   "outputs": [
    {
     "data": {
      "text/plain": [
       "Sales Product\n",
       " HYDROBLUE® 90           [20679]\n",
       " NICOTINAMIDE EP/USP    [47574B]\n",
       "(R)-1-PHENYLPROPYLAM    [90123D]\n",
       "(S)-(+)-1-METHOXY-2-    [90123B]\n",
       "(S)-1-PHENYLETHYLAMI     [84358]\n",
       "                          ...   \n",
       "Z-COTE®                  [37500]\n",
       "ZN-GLYCINATE             [22843]\n",
       "_LOROL C 16              [20977]\n",
       "_LOROL C 18              [20985]\n",
       "_MONOMULS 90-O 18        [21062]\n",
       "Length: 3224, dtype: object"
      ]
     },
     "execution_count": 22,
     "metadata": {},
     "output_type": "execute_result"
    }
   ],
   "source": [
    "df2 = df.groupby('Sales Product').apply(lambda x: x['Stock Code'].unique())\n",
    "df2"
   ]
  },
  {
   "cell_type": "markdown",
   "metadata": {},
   "source": [
    "##### Alpha Code"
   ]
  },
  {
   "cell_type": "code",
   "execution_count": 23,
   "metadata": {},
   "outputs": [
    {
     "name": "stdout",
     "output_type": "stream",
     "text": [
      "Number of unique Alpha codes: 645\n"
     ]
    }
   ],
   "source": [
    "print(\"Number of unique Alpha codes:\", len(df['Alpha Code'].unique()))"
   ]
  },
  {
   "cell_type": "markdown",
   "metadata": {},
   "source": [
    "##### Alpha Code.1"
   ]
  },
  {
   "cell_type": "code",
   "execution_count": 24,
   "metadata": {},
   "outputs": [
    {
     "name": "stdout",
     "output_type": "stream",
     "text": [
      "Number of unique Alpha.1 codes: 675\n"
     ]
    }
   ],
   "source": [
    "print(\"Number of unique Alpha.1 codes:\", len(df['Alpha Code.1'].unique()))"
   ]
  },
  {
   "cell_type": "markdown",
   "metadata": {},
   "source": [
    "Number of unique values in Alpha Code and Alpha Code.1 also don't completely match."
   ]
  },
  {
   "cell_type": "markdown",
   "metadata": {},
   "source": [
    "##### Quantity"
   ]
  },
  {
   "cell_type": "markdown",
   "metadata": {},
   "source": [
    "Quantity sold "
   ]
  },
  {
   "cell_type": "code",
   "execution_count": 25,
   "metadata": {},
   "outputs": [
    {
     "data": {
      "text/plain": [
       "count    200382.000000\n",
       "mean         12.684088\n",
       "std          33.007075\n",
       "min           1.000000\n",
       "25%           2.000000\n",
       "50%           6.000000\n",
       "75%          12.000000\n",
       "max        1056.000000\n",
       "Name: Quantity, dtype: float64"
      ]
     },
     "execution_count": 25,
     "metadata": {},
     "output_type": "execute_result"
    }
   ],
   "source": [
    "df[\"Quantity\"].describe()"
   ]
  },
  {
   "cell_type": "markdown",
   "metadata": {},
   "source": [
    "We see that that 12 goods are sold on average with standard deviation of approximately 32. <br> Minimum quantity seems ok (1), there are no negative values which may indicate returns. <br> Maximum quantity is 1056, much out of +3SD so it should be investigated.  "
   ]
  },
  {
   "cell_type": "code",
   "execution_count": 26,
   "metadata": {},
   "outputs": [
    {
     "data": {
      "image/png": "[encoded data removed]",
      "text/plain": [
       "<Figure size 432x288 with 1 Axes>"
      ]
     },
     "metadata": {
      "needs_background": "light"
     },
     "output_type": "display_data"
    }
   ],
   "source": [
    "sns.boxplot(x = df['Quantity']);"
   ]
  },
  {
   "cell_type": "markdown",
   "metadata": {},
   "source": [
    "Quantity probably consists of natural outliers - indicating customers who buy in bulk. We will further investigate this phenomenon when looking at Customer variable. "
   ]
  },
  {
   "cell_type": "markdown",
   "metadata": {},
   "source": [
    "##### Invoice Date"
   ]
  },
  {
   "cell_type": "markdown",
   "metadata": {},
   "source": [
    "Invoice timestamp (Transaction date and time) \n",
    "- This format is suitable for analysis in Tableau"
   ]
  },
  {
   "cell_type": "code",
   "execution_count": 27,
   "metadata": {},
   "outputs": [],
   "source": [
    "# Coverting column from object to datetime64[ns]\n",
    "df['Invoice Date'] = pd.to_datetime(df['Invoice Date'])"
   ]
  },
  {
   "cell_type": "code",
   "execution_count": 28,
   "metadata": {},
   "outputs": [
    {
     "name": "stdout",
     "output_type": "stream",
     "text": [
      "Date range goes between 2010-12-01 08:26:00 and 2011-08-15 09:57:00\n"
     ]
    }
   ],
   "source": [
    "print (\"Date range goes between\", df['Invoice Date'].min(), \"and\", df['Invoice Date'].max())\n",
    "# 8,5 consistent months"
   ]
  },
  {
   "cell_type": "markdown",
   "metadata": {},
   "source": [
    "##### Price per Unit    "
   ]
  },
  {
   "cell_type": "code",
   "execution_count": 29,
   "metadata": {},
   "outputs": [
    {
     "data": {
      "text/plain": [
       "count    200382.000000\n",
       "mean          2.909292\n",
       "std           2.828459\n",
       "min           0.040000\n",
       "25%           1.250000\n",
       "50%           1.950000\n",
       "75%           3.750000\n",
       "max          16.950000\n",
       "Name: Price per Unit, dtype: float64"
      ]
     },
     "execution_count": 29,
     "metadata": {},
     "output_type": "execute_result"
    }
   ],
   "source": [
    "df[\"Price per Unit\"].describe()"
   ]
  },
  {
   "cell_type": "code",
   "execution_count": 30,
   "metadata": {},
   "outputs": [
    {
     "data": {
      "image/png": "[encoded data removed]",
      "text/plain": [
       "<Figure size 432x288 with 1 Axes>"
      ]
     },
     "metadata": {
      "needs_background": "light"
     },
     "output_type": "display_data"
    }
   ],
   "source": [
    "df[\"Price per Unit\"].hist();"
   ]
  },
  {
   "cell_type": "code",
   "execution_count": 31,
   "metadata": {},
   "outputs": [
    {
     "name": "stdout",
     "output_type": "stream",
     "text": [
      "Skewness: 2.070299\n",
      "Kurtosis: 4.909302\n"
     ]
    }
   ],
   "source": [
    "# Checking values of skewness and kurtosis\n",
    "print(\"Skewness: %f\" % df['Price per Unit'].skew())\n",
    "print(\"Kurtosis: %f\" % df['Price per Unit'].kurt())"
   ]
  },
  {
   "cell_type": "markdown",
   "metadata": {},
   "source": [
    "Price range goes between 0.04 and 16.95. <br> Price per unit distribution is highly skewed, median will be more useful than mean. "
   ]
  },
  {
   "cell_type": "code",
   "execution_count": 32,
   "metadata": {},
   "outputs": [
    {
     "data": {
      "text/plain": [
       "1.95"
      ]
     },
     "execution_count": 32,
     "metadata": {},
     "output_type": "execute_result"
    }
   ],
   "source": [
    "df['Price per Unit'].median()"
   ]
  },
  {
   "cell_type": "markdown",
   "metadata": {},
   "source": [
    "##### Customer & Customer ID"
   ]
  },
  {
   "cell_type": "markdown",
   "metadata": {},
   "source": [
    "Represents customer name & unique customer code"
   ]
  },
  {
   "cell_type": "code",
   "execution_count": 33,
   "metadata": {},
   "outputs": [
    {
     "name": "stdout",
     "output_type": "stream",
     "text": [
      "Number of unique customers: 3154\n"
     ]
    }
   ],
   "source": [
    "print(\"Number of unique customers:\", len(df['Customer'].unique().tolist()))"
   ]
  },
  {
   "cell_type": "code",
   "execution_count": 34,
   "metadata": {},
   "outputs": [
    {
     "name": "stdout",
     "output_type": "stream",
     "text": [
      "Number of unique customer IDs: 3169\n"
     ]
    }
   ],
   "source": [
    "print(\"Number of unique customer IDs:\", len(df['Customer ID'].unique().tolist()))"
   ]
  },
  {
   "cell_type": "code",
   "execution_count": 35,
   "metadata": {},
   "outputs": [
    {
     "data": {
      "text/plain": [
       "Permakem AS              1.731193\n",
       "Cefak KG                 2.998772\n",
       "SwissCo Services AG      3.875099\n",
       "SCHATTDECOR DO BRASI     4.739448\n",
       "UPL SOUTH AFRICA (PT     5.493008\n",
       "Botanichem CC            6.102844\n",
       "Safe Pharmaceutical      6.689224\n",
       "HUNTSMAN QUIMICA BRA     7.234682\n",
       "TATA STEEL UK LTD        7.750197\n",
       "Schälchli Chemie Gmb     8.245252\n",
       "Ovelle Limited           8.674931\n",
       "UNILEVER ANDINA BOLI     9.056702\n",
       "ALLINOVA BV              9.431486\n",
       "ACN KIMYASAL MADDELE     9.806270\n",
       "EWOS LIMITED            10.148616\n",
       "Name: Customer, dtype: float64"
      ]
     },
     "execution_count": 35,
     "metadata": {},
     "output_type": "execute_result"
    }
   ],
   "source": [
    "# Cumulative sum \n",
    "(df['Customer'].value_counts()/sum(df['Customer'].value_counts())*100).head(n=15).cumsum()"
   ]
  },
  {
   "cell_type": "markdown",
   "metadata": {},
   "source": [
    "Only 15 out of 3000+ customers are responsible for 10% of total transactions. These could be wholesale customers who buy bulk goods and store them. Then they sell them to retailers in smaller quantities."
   ]
  },
  {
   "cell_type": "markdown",
   "metadata": {},
   "source": [
    "##### Industry"
   ]
  },
  {
   "cell_type": "code",
   "execution_count": 36,
   "metadata": {},
   "outputs": [
    {
     "data": {
      "text/plain": [
       "#                       100265\n",
       "Construction             18481\n",
       "Agriculture              16756\n",
       "Textiles                 13089\n",
       "Health                   11005\n",
       "Electrical/Electron       9758\n",
       "Cosmetics                 7128\n",
       "Food                      5390\n",
       "Automotive                5132\n",
       "Packaging                 4801\n",
       "Soaps and Detergents      2173\n",
       "Environment               1652\n",
       "Furniture                 1581\n",
       "Private Consumption       1010\n",
       "Patent Agent              1007\n",
       "Printing/Graphics         1002\n",
       "Other                       81\n",
       "BASF Group Companies        71\n",
       "Name: Industry, dtype: int64"
      ]
     },
     "execution_count": 36,
     "metadata": {},
     "output_type": "execute_result"
    }
   ],
   "source": [
    "df['Industry'].value_counts()"
   ]
  },
  {
   "cell_type": "code",
   "execution_count": 37,
   "metadata": {},
   "outputs": [],
   "source": [
    "# Missing values percentage\n",
    "percent = 100870/len(df)*100"
   ]
  },
  {
   "cell_type": "code",
   "execution_count": 38,
   "metadata": {},
   "outputs": [
    {
     "data": {
      "text/plain": [
       "50.33885279116886"
      ]
     },
     "execution_count": 38,
     "metadata": {},
     "output_type": "execute_result"
    }
   ],
   "source": [
    "percent"
   ]
  },
  {
   "cell_type": "markdown",
   "metadata": {},
   "source": [
    "Industry column has too many missing data for analysis. We'll drop it at this point, even do it could easily be very significant for future analysis. In case of more time for the project, it would be wise to use domain knowledge (and other columns) to correctly impute missing data. "
   ]
  },
  {
   "cell_type": "code",
   "execution_count": 39,
   "metadata": {},
   "outputs": [],
   "source": [
    "# dropping industry column\n",
    "df = df.drop(['Industry'], axis=1)"
   ]
  },
  {
   "cell_type": "markdown",
   "metadata": {},
   "source": [
    "##### Country"
   ]
  },
  {
   "cell_type": "code",
   "execution_count": 40,
   "metadata": {},
   "outputs": [
    {
     "data": {
      "text/plain": [
       "110"
      ]
     },
     "execution_count": 40,
     "metadata": {},
     "output_type": "execute_result"
    }
   ],
   "source": [
    "len(df['Country'].value_counts())"
   ]
  },
  {
   "cell_type": "code",
   "execution_count": 41,
   "metadata": {},
   "outputs": [
    {
     "data": {
      "text/plain": [
       "Bulgaria          43414\n",
       "Indonesia         13140\n",
       "Poland            12311\n",
       "Czech Republic     9738\n",
       "South Korea        8789\n",
       "Romania            8645\n",
       "Denmark            6432\n",
       "Morocco            6148\n",
       "Italy              5505\n",
       "USA                5215\n",
       "Name: Country, dtype: int64"
      ]
     },
     "execution_count": 41,
     "metadata": {},
     "output_type": "execute_result"
    }
   ],
   "source": [
    "# Countries with the most transactions\n",
    "# Top 10\n",
    "df['Country'].value_counts().head(10)"
   ]
  },
  {
   "cell_type": "code",
   "execution_count": 42,
   "metadata": {},
   "outputs": [
    {
     "data": {
      "text/plain": [
       "37"
      ]
     },
     "execution_count": 42,
     "metadata": {},
     "output_type": "execute_result"
    }
   ],
   "source": [
    "# Missing values\n",
    "len(df[df['Country'] == 'Not assigned'])"
   ]
  },
  {
   "cell_type": "code",
   "execution_count": 43,
   "metadata": {},
   "outputs": [],
   "source": [
    "categorical_imputer = SimpleImputer(missing_values = 'Not assigned', strategy ='most_frequent', fill_value=None, verbose=0, copy=True)"
   ]
  },
  {
   "cell_type": "code",
   "execution_count": 44,
   "metadata": {},
   "outputs": [],
   "source": [
    "categorical_imputer = categorical_imputer.fit(df['Country'].values.reshape(-1,1))"
   ]
  },
  {
   "cell_type": "code",
   "execution_count": 45,
   "metadata": {},
   "outputs": [],
   "source": [
    "df['Country'] = categorical_imputer.transform(df['Country'].values.reshape(-1,1))"
   ]
  },
  {
   "cell_type": "code",
   "execution_count": 46,
   "metadata": {},
   "outputs": [
    {
     "data": {
      "text/plain": [
       "0"
      ]
     },
     "execution_count": 46,
     "metadata": {},
     "output_type": "execute_result"
    }
   ],
   "source": [
    "len(df[df['Country'] == 'Not assigned'])"
   ]
  },
  {
   "cell_type": "markdown",
   "metadata": {},
   "source": [
    "##### Unnamed:12  "
   ]
  },
  {
   "cell_type": "markdown",
   "metadata": {},
   "source": [
    "This unnamed column stores country abbreviations"
   ]
  },
  {
   "cell_type": "markdown",
   "metadata": {},
   "source": [
    "##### Distributor"
   ]
  },
  {
   "cell_type": "code",
   "execution_count": 47,
   "metadata": {},
   "outputs": [
    {
     "data": {
      "text/plain": [
       "array(['Distributor no', 'Distributor yes', 'Not assigned'], dtype=object)"
      ]
     },
     "execution_count": 47,
     "metadata": {},
     "output_type": "execute_result"
    }
   ],
   "source": [
    "df['Distributor'].unique()"
   ]
  },
  {
   "cell_type": "code",
   "execution_count": 48,
   "metadata": {},
   "outputs": [
    {
     "data": {
      "text/plain": [
       "Distributor no     149154\n",
       "Distributor yes     50722\n",
       "Not assigned          506\n",
       "Name: Distributor, dtype: int64"
      ]
     },
     "execution_count": 48,
     "metadata": {},
     "output_type": "execute_result"
    }
   ],
   "source": [
    "df['Distributor'].value_counts()"
   ]
  },
  {
   "cell_type": "markdown",
   "metadata": {},
   "source": [
    "Imputing 'Not assigned' data with the most frequent category: "
   ]
  },
  {
   "cell_type": "code",
   "execution_count": 49,
   "metadata": {},
   "outputs": [],
   "source": [
    "categorical_imputer = SimpleImputer(missing_values = 'Not assigned', strategy ='most_frequent', fill_value=None, verbose=0, copy=True)"
   ]
  },
  {
   "cell_type": "code",
   "execution_count": 50,
   "metadata": {},
   "outputs": [],
   "source": [
    "# Fitting the categorical value\n",
    "categorical_imputer = categorical_imputer.fit(df['Distributor'].values.reshape(-1,1))"
   ]
  },
  {
   "cell_type": "code",
   "execution_count": null,
   "metadata": {},
   "outputs": [],
   "source": []
  },
  {
   "cell_type": "code",
   "execution_count": 51,
   "metadata": {},
   "outputs": [],
   "source": [
    "# Transforming and saving result in dataframe\n",
    "df['Distributor'] = categorical_imputer.transform(df['Distributor'].values.reshape(-1,1))"
   ]
  },
  {
   "cell_type": "code",
   "execution_count": 52,
   "metadata": {},
   "outputs": [
    {
     "data": {
      "text/plain": [
       "Distributor no     149660\n",
       "Distributor yes     50722\n",
       "Name: Distributor, dtype: int64"
      ]
     },
     "execution_count": 52,
     "metadata": {},
     "output_type": "execute_result"
    }
   ],
   "source": [
    "# Checking the result \n",
    "df['Distributor'].value_counts()"
   ]
  },
  {
   "cell_type": "markdown",
   "metadata": {},
   "source": [
    "##### Operating Division "
   ]
  },
  {
   "cell_type": "code",
   "execution_count": 53,
   "metadata": {},
   "outputs": [
    {
     "data": {
      "text/plain": [
       "INTERMEDIATES           65047\n",
       "PERFORMANCE MATERIAL    34818\n",
       "CARE CHEMICALS          29005\n",
       "PETROCHEMICALS          27682\n",
       "MONOMERS                22165\n",
       "NUTRITION & HEALTH      21665\n",
       "Name: Operating Division, dtype: int64"
      ]
     },
     "execution_count": 53,
     "metadata": {},
     "output_type": "execute_result"
    }
   ],
   "source": [
    "df['Operating Division'].value_counts()"
   ]
  },
  {
   "cell_type": "markdown",
   "metadata": {},
   "source": [
    "Transactions are divided into 6 operating divisions. "
   ]
  },
  {
   "cell_type": "markdown",
   "metadata": {},
   "source": [
    "##### Unnamed:15\n"
   ]
  },
  {
   "cell_type": "markdown",
   "metadata": {},
   "source": [
    "This unnamed column stores operating division abbreviations"
   ]
  },
  {
   "cell_type": "markdown",
   "metadata": {},
   "source": [
    "##### Final Price"
   ]
  },
  {
   "cell_type": "code",
   "execution_count": 54,
   "metadata": {},
   "outputs": [],
   "source": [
    "# Using calculated column to ensure data quality: \n",
    "df['Revenue'] = df['Price per Unit'] * df['Quantity']"
   ]
  },
  {
   "cell_type": "code",
   "execution_count": 55,
   "metadata": {},
   "outputs": [],
   "source": [
    "df = df.drop(['Final Price'], axis=1)"
   ]
  },
  {
   "cell_type": "code",
   "execution_count": 56,
   "metadata": {},
   "outputs": [
    {
     "data": {
      "text/html": [
       "<div>\n",
       "<style scoped>\n",
       "    .dataframe tbody tr th:only-of-type {\n",
       "        vertical-align: middle;\n",
       "    }\n",
       "\n",
       "    .dataframe tbody tr th {\n",
       "        vertical-align: top;\n",
       "    }\n",
       "\n",
       "    .dataframe thead th {\n",
       "        text-align: right;\n",
       "    }\n",
       "</style>\n",
       "<table border=\"1\" class=\"dataframe\">\n",
       "  <thead>\n",
       "    <tr style=\"text-align: right;\">\n",
       "      <th></th>\n",
       "      <th>Invoice</th>\n",
       "      <th>Sales Product</th>\n",
       "      <th>Stock Code</th>\n",
       "      <th>Alpha Code</th>\n",
       "      <th>Alpha Code.1</th>\n",
       "      <th>Quantity</th>\n",
       "      <th>Invoice Date</th>\n",
       "      <th>Price per Unit</th>\n",
       "      <th>Customer</th>\n",
       "      <th>Customer ID</th>\n",
       "      <th>Country</th>\n",
       "      <th>Unnamed: 12</th>\n",
       "      <th>Distributor</th>\n",
       "      <th>Operating Division</th>\n",
       "      <th>Unnamed: 15</th>\n",
       "      <th>Invoice Month</th>\n",
       "      <th>Day of week</th>\n",
       "      <th>Revenue</th>\n",
       "    </tr>\n",
       "  </thead>\n",
       "  <tbody>\n",
       "    <tr>\n",
       "      <th>0</th>\n",
       "      <td>553503</td>\n",
       "      <td>NEOPOLEN P 9230 K BS</td>\n",
       "      <td>90214Y</td>\n",
       "      <td>NEOPOLEN P EX BSW</td>\n",
       "      <td>DLG</td>\n",
       "      <td>1</td>\n",
       "      <td>2011-05-17 13:20:00</td>\n",
       "      <td>0.83</td>\n",
       "      <td>SCHATTDECOR DO BRASI</td>\n",
       "      <td>14606</td>\n",
       "      <td>Romania</td>\n",
       "      <td>RO</td>\n",
       "      <td>Distributor no</td>\n",
       "      <td>PERFORMANCE MATERIAL</td>\n",
       "      <td>PM</td>\n",
       "      <td>May</td>\n",
       "      <td>Tuesday</td>\n",
       "      <td>0.83</td>\n",
       "    </tr>\n",
       "    <tr>\n",
       "      <th>1</th>\n",
       "      <td>536591</td>\n",
       "      <td>NEOPOLEN P 9255 BSW</td>\n",
       "      <td>90214V</td>\n",
       "      <td>NEOPOLEN P EX BSW</td>\n",
       "      <td>DLG</td>\n",
       "      <td>1</td>\n",
       "      <td>2010-12-01 16:57:00</td>\n",
       "      <td>0.83</td>\n",
       "      <td>SCHATTDECOR DO BRASI</td>\n",
       "      <td>14606</td>\n",
       "      <td>Romania</td>\n",
       "      <td>RO</td>\n",
       "      <td>Distributor no</td>\n",
       "      <td>PERFORMANCE MATERIAL</td>\n",
       "      <td>PM</td>\n",
       "      <td>December</td>\n",
       "      <td>Wednesday</td>\n",
       "      <td>0.83</td>\n",
       "    </tr>\n",
       "    <tr>\n",
       "      <th>2</th>\n",
       "      <td>556202</td>\n",
       "      <td>NEOPOLEN P 9255 BSW</td>\n",
       "      <td>90214V</td>\n",
       "      <td>NEOPOLEN P EX BSW</td>\n",
       "      <td>DLG</td>\n",
       "      <td>1</td>\n",
       "      <td>2011-06-09 13:08:00</td>\n",
       "      <td>0.83</td>\n",
       "      <td>SCHATTDECOR DO BRASI</td>\n",
       "      <td>14606</td>\n",
       "      <td>Romania</td>\n",
       "      <td>RO</td>\n",
       "      <td>Distributor no</td>\n",
       "      <td>PERFORMANCE MATERIAL</td>\n",
       "      <td>PM</td>\n",
       "      <td>June</td>\n",
       "      <td>Thursday</td>\n",
       "      <td>0.83</td>\n",
       "    </tr>\n",
       "    <tr>\n",
       "      <th>3</th>\n",
       "      <td>536591</td>\n",
       "      <td>NEOPOLEN P 9225 K BS</td>\n",
       "      <td>90214S</td>\n",
       "      <td>NEOPOLEN P EX BSW</td>\n",
       "      <td>DLG</td>\n",
       "      <td>1</td>\n",
       "      <td>2010-12-01 16:57:00</td>\n",
       "      <td>0.83</td>\n",
       "      <td>SCHATTDECOR DO BRASI</td>\n",
       "      <td>14606</td>\n",
       "      <td>Romania</td>\n",
       "      <td>RO</td>\n",
       "      <td>Distributor no</td>\n",
       "      <td>PERFORMANCE MATERIAL</td>\n",
       "      <td>PM</td>\n",
       "      <td>December</td>\n",
       "      <td>Wednesday</td>\n",
       "      <td>0.83</td>\n",
       "    </tr>\n",
       "    <tr>\n",
       "      <th>4</th>\n",
       "      <td>537765</td>\n",
       "      <td>NEOPOLEN P 9225 K BS</td>\n",
       "      <td>90214S</td>\n",
       "      <td>NEOPOLEN P EX BSW</td>\n",
       "      <td>DLG</td>\n",
       "      <td>2</td>\n",
       "      <td>2010-12-08 12:08:00</td>\n",
       "      <td>0.83</td>\n",
       "      <td>SCHATTDECOR DO BRASI</td>\n",
       "      <td>14606</td>\n",
       "      <td>Romania</td>\n",
       "      <td>RO</td>\n",
       "      <td>Distributor no</td>\n",
       "      <td>PERFORMANCE MATERIAL</td>\n",
       "      <td>PM</td>\n",
       "      <td>December</td>\n",
       "      <td>Wednesday</td>\n",
       "      <td>1.66</td>\n",
       "    </tr>\n",
       "  </tbody>\n",
       "</table>\n",
       "</div>"
      ],
      "text/plain": [
       "   Invoice         Sales Product Stock Code         Alpha Code Alpha Code.1  \\\n",
       "0   553503  NEOPOLEN P 9230 K BS     90214Y  NEOPOLEN P EX BSW          DLG   \n",
       "1   536591   NEOPOLEN P 9255 BSW     90214V  NEOPOLEN P EX BSW          DLG   \n",
       "2   556202   NEOPOLEN P 9255 BSW     90214V  NEOPOLEN P EX BSW          DLG   \n",
       "3   536591  NEOPOLEN P 9225 K BS     90214S  NEOPOLEN P EX BSW          DLG   \n",
       "4   537765  NEOPOLEN P 9225 K BS     90214S  NEOPOLEN P EX BSW          DLG   \n",
       "\n",
       "   Quantity        Invoice Date  Price per Unit              Customer  \\\n",
       "0         1 2011-05-17 13:20:00            0.83  SCHATTDECOR DO BRASI   \n",
       "1         1 2010-12-01 16:57:00            0.83  SCHATTDECOR DO BRASI   \n",
       "2         1 2011-06-09 13:08:00            0.83  SCHATTDECOR DO BRASI   \n",
       "3         1 2010-12-01 16:57:00            0.83  SCHATTDECOR DO BRASI   \n",
       "4         2 2010-12-08 12:08:00            0.83  SCHATTDECOR DO BRASI   \n",
       "\n",
       "   Customer ID  Country Unnamed: 12     Distributor    Operating Division  \\\n",
       "0        14606  Romania          RO  Distributor no  PERFORMANCE MATERIAL   \n",
       "1        14606  Romania          RO  Distributor no  PERFORMANCE MATERIAL   \n",
       "2        14606  Romania          RO  Distributor no  PERFORMANCE MATERIAL   \n",
       "3        14606  Romania          RO  Distributor no  PERFORMANCE MATERIAL   \n",
       "4        14606  Romania          RO  Distributor no  PERFORMANCE MATERIAL   \n",
       "\n",
       "  Unnamed: 15 Invoice Month Day of week  Revenue  \n",
       "0          PM           May     Tuesday     0.83  \n",
       "1          PM      December   Wednesday     0.83  \n",
       "2          PM          June    Thursday     0.83  \n",
       "3          PM      December   Wednesday     0.83  \n",
       "4          PM      December   Wednesday     1.66  "
      ]
     },
     "execution_count": 56,
     "metadata": {},
     "output_type": "execute_result"
    }
   ],
   "source": [
    "df.head()"
   ]
  },
  {
   "cell_type": "markdown",
   "metadata": {},
   "source": [
    "##### Invoice Month "
   ]
  },
  {
   "cell_type": "code",
   "execution_count": 57,
   "metadata": {},
   "outputs": [
    {
     "data": {
      "text/plain": [
       "9"
      ]
     },
     "execution_count": 57,
     "metadata": {},
     "output_type": "execute_result"
    }
   ],
   "source": [
    "len(df['Invoice Month'].unique())"
   ]
  },
  {
   "cell_type": "code",
   "execution_count": 58,
   "metadata": {},
   "outputs": [
    {
     "data": {
      "text/plain": [
       "array(['May', 'December', 'June', 'January', 'February', 'March', 'April',\n",
       "       'July', 'August'], dtype=object)"
      ]
     },
     "execution_count": 58,
     "metadata": {},
     "output_type": "execute_result"
    }
   ],
   "source": [
    "df['Invoice Month'].unique()"
   ]
  },
  {
   "cell_type": "markdown",
   "metadata": {},
   "source": [
    "We have no data for September, October and November."
   ]
  },
  {
   "cell_type": "markdown",
   "metadata": {},
   "source": [
    "##### Day of week"
   ]
  },
  {
   "cell_type": "code",
   "execution_count": 59,
   "metadata": {},
   "outputs": [
    {
     "data": {
      "text/plain": [
       "6"
      ]
     },
     "execution_count": 59,
     "metadata": {},
     "output_type": "execute_result"
    }
   ],
   "source": [
    "# On which day of the week purchase happened\n",
    "len(df['Day of week'].unique())"
   ]
  },
  {
   "cell_type": "code",
   "execution_count": 60,
   "metadata": {},
   "outputs": [
    {
     "data": {
      "text/plain": [
       "array(['Tuesday', 'Wednesday', 'Thursday', 'Sunday', 'Monday', 'Friday'],\n",
       "      dtype=object)"
      ]
     },
     "execution_count": 60,
     "metadata": {},
     "output_type": "execute_result"
    }
   ],
   "source": [
    "df['Day of week'].unique()"
   ]
  },
  {
   "cell_type": "markdown",
   "metadata": {},
   "source": [
    "There were no purchases on Saturdays. Why do we miss that data? "
   ]
  },
  {
   "cell_type": "code",
   "execution_count": 61,
   "metadata": {},
   "outputs": [],
   "source": [
    "# Saving csv file for EDA\n",
    "clean_data = df.to_excel('dataset_clean.xlsx', index=False)"
   ]
  },
  {
   "cell_type": "markdown",
   "metadata": {},
   "source": [
    "### Future improvements \n",
    "- Since this is a small dataset, missing values were mostly handled with SimpleImputer (they were filled with the most frequent category) or simply dropped\n",
    "- We could improve this process with the use of fancyimpute library and KNN algorithm (imputes variables based on values on nearest neighbours) \n",
    "- Industry feature is dropped from the analysis due to the large number of missing values (more than 50%). However, it would probably be valuable to reconstruct values based on other features\n",
    "- Same minor data quality issues were noticed in variables Sales Products vs Stock Code, which should be further explored. Also, AlphaCode vs AlphaCode.1 relationship stays unknown without the domain knowledge "
   ]
  }
 ],
 "metadata": {
  "kernelspec": {
   "display_name": "Python 3",
   "language": "python",
   "name": "python3"
  },
  "language_info": {
   "codemirror_mode": {
    "name": "ipython",
    "version": 3
   },
   "file_extension": ".py",
   "mimetype": "text/x-python",
   "name": "python",
   "nbconvert_exporter": "python",
   "pygments_lexer": "ipython3",
   "version": "3.8.5"
  }
 },
 "nbformat": 4,
 "nbformat_minor": 4
}
